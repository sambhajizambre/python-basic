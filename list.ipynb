{
  "nbformat": 4,
  "nbformat_minor": 0,
  "metadata": {
    "colab": {
      "name": "Untitled3.ipynb",
      "provenance": [],
      "authorship_tag": "ABX9TyNu9qn0+bJ9nWxveIZRslhR",
      "include_colab_link": true
    },
    "kernelspec": {
      "name": "python3",
      "display_name": "Python 3"
    },
    "language_info": {
      "name": "python"
    }
  },
  "cells": [
    {
      "cell_type": "markdown",
      "metadata": {
        "id": "view-in-github",
        "colab_type": "text"
      },
      "source": [
        "<a href=\"https://colab.research.google.com/github/sambhajizambre/python-basic/blob/main/list.ipynb\" target=\"_parent\"><img src=\"https://colab.research.google.com/assets/colab-badge.svg\" alt=\"Open In Colab\"/></a>"
      ]
    },
    {
      "cell_type": "code",
      "execution_count": 1,
      "metadata": {
        "id": "iF_aoFioHSsl"
      },
      "outputs": [],
      "source": [
        "l = [1,2,3,4,5]"
      ]
    },
    {
      "cell_type": "code",
      "source": [
        "l[4]"
      ],
      "metadata": {
        "colab": {
          "base_uri": "https://localhost:8080/"
        },
        "id": "nnb09ZEEMIh3",
        "outputId": "2e49d2b2-8bc1-462e-d7fe-fcbbc92daf70"
      },
      "execution_count": 2,
      "outputs": [
        {
          "output_type": "execute_result",
          "data": {
            "text/plain": [
              "5"
            ]
          },
          "metadata": {},
          "execution_count": 2
        }
      ]
    },
    {
      "cell_type": "code",
      "source": [
        "\n",
        "l[1]"
      ],
      "metadata": {
        "colab": {
          "base_uri": "https://localhost:8080/"
        },
        "id": "XFDBzUGVMIvI",
        "outputId": "124cfdab-760a-4b29-ac76-6cbb762ddc25"
      },
      "execution_count": 5,
      "outputs": [
        {
          "output_type": "execute_result",
          "data": {
            "text/plain": [
              "2"
            ]
          },
          "metadata": {},
          "execution_count": 5
        }
      ]
    },
    {
      "cell_type": "code",
      "source": [
        "l=[\"python\",\"java\",\"c\",\"spark\"]"
      ],
      "metadata": {
        "id": "noDN6gbkMI6W"
      },
      "execution_count": 6,
      "outputs": []
    },
    {
      "cell_type": "code",
      "source": [
        "l[2]"
      ],
      "metadata": {
        "colab": {
          "base_uri": "https://localhost:8080/",
          "height": 35
        },
        "id": "KOpPNIBWMI71",
        "outputId": "f49ad9c7-3d50-4af5-99dc-dd3d9201e165"
      },
      "execution_count": 7,
      "outputs": [
        {
          "output_type": "execute_result",
          "data": {
            "text/plain": [
              "'c'"
            ],
            "application/vnd.google.colaboratory.intrinsic+json": {
              "type": "string"
            }
          },
          "metadata": {},
          "execution_count": 7
        }
      ]
    },
    {
      "cell_type": "code",
      "source": [
        "n=[1,2,3,4,5,6,7,8,9,10]\n",
        "n[4:9]"
      ],
      "metadata": {
        "colab": {
          "base_uri": "https://localhost:8080/"
        },
        "id": "SSvJ17yGMJBJ",
        "outputId": "5acc6bb3-a942-4643-cf95-77b0e8d33f0b"
      },
      "execution_count": 9,
      "outputs": [
        {
          "output_type": "execute_result",
          "data": {
            "text/plain": [
              "[5, 6, 7, 8, 9]"
            ]
          },
          "metadata": {},
          "execution_count": 9
        }
      ]
    },
    {
      "cell_type": "code",
      "source": [
        "n=[10,20,30,40]\n",
        "n[2]=200\n",
        "print(n)"
      ],
      "metadata": {
        "colab": {
          "base_uri": "https://localhost:8080/"
        },
        "id": "wepxN7MaMJC2",
        "outputId": "738d8156-4ff0-45a4-8bd5-7a0decc172ba"
      },
      "execution_count": 11,
      "outputs": [
        {
          "output_type": "stream",
          "name": "stdout",
          "text": [
            "[10, 20, 200, 40]\n"
          ]
        }
      ]
    },
    {
      "cell_type": "code",
      "source": [
        "# 1)By using while Loop:\n",
        "n=[0,1,2,3,4,5,6,7,8,9,10]\n",
        "i=0\n",
        "while i < len(n):\n",
        "  print(n[i])\n",
        "  i=i+1"
      ],
      "metadata": {
        "colab": {
          "base_uri": "https://localhost:8080/"
        },
        "id": "1sr_uUQGMJH0",
        "outputId": "abce80e7-d38f-4480-c3c2-e731fd0f8c6f"
      },
      "execution_count": 18,
      "outputs": [
        {
          "output_type": "stream",
          "name": "stdout",
          "text": [
            "0\n",
            "1\n",
            "2\n",
            "3\n",
            "4\n",
            "5\n",
            "6\n",
            "7\n",
            "8\n",
            "9\n",
            "10\n"
          ]
        }
      ]
    },
    {
      "cell_type": "code",
      "source": [
        "# 2)By using for Loop:\n",
        "n=[0,1,2,3,4,5,6,7,8,9,10]\n",
        "for i in n:\n",
        "  print(i)"
      ],
      "metadata": {
        "colab": {
          "base_uri": "https://localhost:8080/"
        },
        "id": "vz_WRDJYMJJU",
        "outputId": "466f1fcb-a465-4df8-ba5f-13a85276f655"
      },
      "execution_count": 21,
      "outputs": [
        {
          "output_type": "stream",
          "name": "stdout",
          "text": [
            "0\n",
            "1\n",
            "2\n",
            "3\n",
            "4\n",
            "5\n",
            "6\n",
            "7\n",
            "8\n",
            "9\n",
            "10\n"
          ]
        }
      ]
    },
    {
      "cell_type": "code",
      "source": [
        "# 3)To display Elements by Index wise:\n",
        "l=[\"A\",\"B\",\"C\"]\n",
        "x=len(l)\n",
        "for i in range(x):\n",
        "  print(l[i],\"is available at positive index: \",i,\"and at negative index: \",i-x)"
      ],
      "metadata": {
        "colab": {
          "base_uri": "https://localhost:8080/"
        },
        "id": "x3dfR4IoMJPD",
        "outputId": "dbfa0fd3-a9ad-4e00-f103-99d830443a22"
      },
      "execution_count": 22,
      "outputs": [
        {
          "output_type": "stream",
          "name": "stdout",
          "text": [
            "A is available at positive index:  0 and at negative index:  -3\n",
            "B is available at positive index:  1 and at negative index:  -2\n",
            "C is available at positive index:  2 and at negative index:  -1\n"
          ]
        }
      ]
    },
    {
      "cell_type": "code",
      "source": [
        "l=[\"A\",\"B\",\"C\"]\n",
        "x=len(l)\n",
        "for i in range(x):\n",
        "  print(l[i],\"is available at positive index: \",i,\"and at negative index: \",i-x)"
      ],
      "metadata": {
        "colab": {
          "base_uri": "https://localhost:8080/"
        },
        "id": "abbrfzsiMJQ4",
        "outputId": "6ade3fc0-b0ba-423c-f0b2-f12f2820a4dd"
      },
      "execution_count": 28,
      "outputs": [
        {
          "output_type": "stream",
          "name": "stdout",
          "text": [
            "A is available at positive index:  0 and at negative index:  -3\n",
            "B is available at positive index:  1 and at negative index:  -2\n",
            "C is available at positive index:  2 and at negative index:  -1\n"
          ]
        }
      ]
    },
    {
      "cell_type": "code",
      "source": [
        "n=[0,1,2,3,4,5,6,7,8,9,10,2,3,3]\n",
        "len(n)"
      ],
      "metadata": {
        "colab": {
          "base_uri": "https://localhost:8080/"
        },
        "id": "kbcxjZzYZXaD",
        "outputId": "bc3163e0-e3e2-468f-b967-22250bdc6fc5"
      },
      "execution_count": 33,
      "outputs": [
        {
          "output_type": "execute_result",
          "data": {
            "text/plain": [
              "14"
            ]
          },
          "metadata": {},
          "execution_count": 33
        }
      ]
    },
    {
      "cell_type": "code",
      "source": [
        "print(n.count(3))\n",
        "print(n.count(2))"
      ],
      "metadata": {
        "colab": {
          "base_uri": "https://localhost:8080/"
        },
        "id": "7fVftRXlZXNG",
        "outputId": "2d5c8637-7c7c-4ff0-a922-ce7906b88405"
      },
      "execution_count": 37,
      "outputs": [
        {
          "output_type": "stream",
          "name": "stdout",
          "text": [
            "3\n",
            "2\n"
          ]
        }
      ]
    },
    {
      "cell_type": "code",
      "source": [
        "n=[0,1,3,3,4,5,6,7,8,9,10,2,3,3]\n",
        "n.index(2)"
      ],
      "metadata": {
        "colab": {
          "base_uri": "https://localhost:8080/"
        },
        "id": "4BsJxa8EZXAM",
        "outputId": "6ec8efb6-9795-4178-d84f-3a8990f9eef4"
      },
      "execution_count": 48,
      "outputs": [
        {
          "output_type": "execute_result",
          "data": {
            "text/plain": [
              "11"
            ]
          },
          "metadata": {},
          "execution_count": 48
        }
      ]
    },
    {
      "cell_type": "code",
      "source": [
        "n=[0,1,1,2,34,5,6,6,7]\n",
        "n.index(1)"
      ],
      "metadata": {
        "colab": {
          "base_uri": "https://localhost:8080/"
        },
        "id": "_3s3TouaZWzn",
        "outputId": "137b4a9c-2b22-481f-e6fb-d15165edc67b"
      },
      "execution_count": 50,
      "outputs": [
        {
          "output_type": "execute_result",
          "data": {
            "text/plain": [
              "1"
            ]
          },
          "metadata": {},
          "execution_count": 50
        }
      ]
    },
    {
      "cell_type": "code",
      "source": [
        "n.index(34)"
      ],
      "metadata": {
        "colab": {
          "base_uri": "https://localhost:8080/"
        },
        "id": "v3PJNpuwZWj1",
        "outputId": "56afdc50-d6a2-4dd2-dd8b-724cc2f32c8e"
      },
      "execution_count": 53,
      "outputs": [
        {
          "output_type": "execute_result",
          "data": {
            "text/plain": [
              "4"
            ]
          },
          "metadata": {},
          "execution_count": 53
        }
      ]
    },
    {
      "cell_type": "code",
      "source": [
        "# E.g To add all the elements to list upto 100 which are divisible by 10 --> simple --> complex\n",
        "list=[]\n",
        "for i in range(101):\n",
        "  if i%10==0:\n",
        "    list.append(i)\n",
        "print(list)"
      ],
      "metadata": {
        "colab": {
          "base_uri": "https://localhost:8080/"
        },
        "id": "8XECHqhGgbZZ",
        "outputId": "e66093d8-dc75-407f-a6b3-760e567b6aea"
      },
      "execution_count": 60,
      "outputs": [
        {
          "output_type": "stream",
          "name": "stdout",
          "text": [
            "[0, 10, 20, 30, 40, 50, 60, 70, 80, 90, 100]\n"
          ]
        }
      ]
    },
    {
      "cell_type": "code",
      "source": [
        "list=[1,2,3,4,5,6,5,4,3,2,]\n",
        "list.reverse()\n",
        "list\n"
      ],
      "metadata": {
        "colab": {
          "base_uri": "https://localhost:8080/"
        },
        "id": "9lwoAxfCgbK8",
        "outputId": "97ec64fe-46ad-432a-e190-b61d6d296cbd"
      },
      "execution_count": 69,
      "outputs": [
        {
          "output_type": "execute_result",
          "data": {
            "text/plain": [
              "[2, 3, 4, 5, 6, 5, 4, 3, 2, 1]"
            ]
          },
          "metadata": {},
          "execution_count": 69
        }
      ]
    },
    {
      "cell_type": "code",
      "source": [
        ""
      ],
      "metadata": {
        "id": "mR4hgn2jga9m"
      },
      "execution_count": null,
      "outputs": []
    }
  ]
}