{
  "nbformat": 4,
  "nbformat_minor": 0,
  "metadata": {
    "colab": {
      "name": "Untitled0.ipynb",
      "provenance": [],
      "collapsed_sections": [],
      "authorship_tag": "ABX9TyNM97+MVn+hB/qeZtGIBJWU",
      "include_colab_link": true
    },
    "kernelspec": {
      "name": "python3",
      "display_name": "Python 3"
    },
    "language_info": {
      "name": "python"
    }
  },
  "cells": [
    {
      "cell_type": "markdown",
      "metadata": {
        "id": "view-in-github",
        "colab_type": "text"
      },
      "source": [
        "<a href=\"https://colab.research.google.com/github/sambhajizambre/python-basic/blob/main/Untitled1.ipynb\" target=\"_parent\"><img src=\"https://colab.research.google.com/assets/colab-badge.svg\" alt=\"Open In Colab\"/></a>"
      ]
    },
    {
      "cell_type": "markdown",
      "source": [
        "b=10"
      ],
      "metadata": {
        "id": "TYaXPNBYNvKH"
      }
    },
    {
      "cell_type": "code",
      "source": [
        "b=10"
      ],
      "metadata": {
        "id": "e828LFLyN2yu"
      },
      "execution_count": null,
      "outputs": []
    },
    {
      "cell_type": "code",
      "execution_count": null,
      "metadata": {
        "id": "CMVaCThrNeeu"
      },
      "outputs": [],
      "source": [
        "a=10"
      ]
    },
    {
      "cell_type": "code",
      "source": [
        "n=[1,2,3,4,5,6,7,8,9,10]"
      ],
      "metadata": {
        "id": "WeLS9qR2N5__"
      },
      "execution_count": null,
      "outputs": []
    },
    {
      "cell_type": "code",
      "source": [
        "n[5]=10"
      ],
      "metadata": {
        "id": "mhKdXP0Bf18e"
      },
      "execution_count": null,
      "outputs": []
    },
    {
      "cell_type": "code",
      "source": [
        "n[3:8]"
      ],
      "metadata": {
        "colab": {
          "base_uri": "https://localhost:8080/"
        },
        "id": "he9u0fhLOHhg",
        "outputId": "6a29e7bb-2fb1-40e7-9a88-afb1baa61a1c"
      },
      "execution_count": null,
      "outputs": [
        {
          "output_type": "execute_result",
          "data": {
            "text/plain": [
              "[4, 5, 6, 7, 8]"
            ]
          },
          "metadata": {},
          "execution_count": 7
        }
      ]
    },
    {
      "cell_type": "code",
      "source": [
        "n[4]=10"
      ],
      "metadata": {
        "id": "eAMDym2tONgq"
      },
      "execution_count": null,
      "outputs": []
    },
    {
      "cell_type": "code",
      "source": [
        "print(n)"
      ],
      "metadata": {
        "colab": {
          "base_uri": "https://localhost:8080/"
        },
        "id": "4IOOcFCakQVe",
        "outputId": "f3a5d096-5b5c-4800-e807-4c462a58a6d9"
      },
      "execution_count": null,
      "outputs": [
        {
          "output_type": "stream",
          "name": "stdout",
          "text": [
            "[1, 2, 3, 4, 10, 10, 7, 8, 9, 10]\n"
          ]
        }
      ]
    },
    {
      "cell_type": "code",
      "source": [
        "n=[5,10,15,20,25,35,40]"
      ],
      "metadata": {
        "id": "wo8T-d3smy2X"
      },
      "execution_count": 11,
      "outputs": []
    },
    {
      "cell_type": "code",
      "source": [
        "n.insert(5,30)"
      ],
      "metadata": {
        "id": "jg7iDYcLhFjv"
      },
      "execution_count": 12,
      "outputs": []
    },
    {
      "cell_type": "code",
      "source": [
        "n"
      ],
      "metadata": {
        "colab": {
          "base_uri": "https://localhost:8080/"
        },
        "id": "Q9Un-aQChkAa",
        "outputId": "982ee6b7-cc87-446a-fd97-c1e9faf209a7"
      },
      "execution_count": 13,
      "outputs": [
        {
          "output_type": "execute_result",
          "data": {
            "text/plain": [
              "[5, 10, 15, 20, 25, 30, 35, 40]"
            ]
          },
          "metadata": {},
          "execution_count": 13
        }
      ]
    },
    {
      "cell_type": "code",
      "source": [
        "A=[\"tanuja\",\"Manisha\",\"Rohan\"]"
      ],
      "metadata": {
        "id": "mU3ZPIy2huSI"
      },
      "execution_count": 17,
      "outputs": []
    },
    {
      "cell_type": "code",
      "source": [
        "type(A)"
      ],
      "metadata": {
        "colab": {
          "base_uri": "https://localhost:8080/"
        },
        "id": "nUZOgqwJi1Xv",
        "outputId": "428b3f4b-30be-4ab6-e5e7-77d626c704ac"
      },
      "execution_count": 20,
      "outputs": [
        {
          "output_type": "execute_result",
          "data": {
            "text/plain": [
              "list"
            ]
          },
          "metadata": {},
          "execution_count": 20
        }
      ]
    },
    {
      "cell_type": "code",
      "source": [
        "B=\"Roshan\""
      ],
      "metadata": {
        "id": "Dhca5R7HjArd"
      },
      "execution_count": 26,
      "outputs": []
    },
    {
      "cell_type": "code",
      "source": [
        "A.append(B)"
      ],
      "metadata": {
        "id": "pUBfrY1_jQwl"
      },
      "execution_count": 27,
      "outputs": []
    },
    {
      "cell_type": "code",
      "source": [
        "print(A)"
      ],
      "metadata": {
        "colab": {
          "base_uri": "https://localhost:8080/"
        },
        "id": "JLK2ahTykE1-",
        "outputId": "a30903fb-88b1-4bd3-e93f-4b3499356940"
      },
      "execution_count": 29,
      "outputs": [
        {
          "output_type": "stream",
          "name": "stdout",
          "text": [
            "['tanuja', 'Manisha', 'Rohan', 'Roshan', 'Roshan']\n"
          ]
        }
      ]
    },
    {
      "cell_type": "code",
      "source": [
        "A[4]=\"sambhaji\""
      ],
      "metadata": {
        "id": "8bmABIIFk1W2"
      },
      "execution_count": 34,
      "outputs": []
    },
    {
      "cell_type": "code",
      "source": [
        "print (A)"
      ],
      "metadata": {
        "colab": {
          "base_uri": "https://localhost:8080/"
        },
        "id": "sOQtD7bBk2DX",
        "outputId": "3139cbf2-ea2d-4bc2-b564-973ef8f935e7"
      },
      "execution_count": 35,
      "outputs": [
        {
          "output_type": "stream",
          "name": "stdout",
          "text": [
            "['tanuja', 'Manisha', 'Rohan', 'Roshan', 'sambhaji']\n"
          ]
        }
      ]
    },
    {
      "cell_type": "code",
      "source": [
        "C=\"sambhaji,shivaji,zambre\""
      ],
      "metadata": {
        "id": "tX5tm0cak2QH"
      },
      "execution_count": 38,
      "outputs": []
    },
    {
      "cell_type": "code",
      "source": [
        "type(C)"
      ],
      "metadata": {
        "colab": {
          "base_uri": "https://localhost:8080/"
        },
        "id": "2IzbPZJwk2Xw",
        "outputId": "59df12df-c222-46ca-a420-a6b5bb82cf1c"
      },
      "execution_count": 39,
      "outputs": [
        {
          "output_type": "execute_result",
          "data": {
            "text/plain": [
              "str"
            ]
          },
          "metadata": {},
          "execution_count": 39
        }
      ]
    },
    {
      "cell_type": "code",
      "source": [
        "C=[\"sambhaji\", \"shivaji\", \"zambre\"]"
      ],
      "metadata": {
        "id": "EXLH2Rllk2lO"
      },
      "execution_count": 44,
      "outputs": []
    },
    {
      "cell_type": "code",
      "source": [
        "type(C)"
      ],
      "metadata": {
        "colab": {
          "base_uri": "https://localhost:8080/"
        },
        "id": "bkzRbOLWnxt4",
        "outputId": "476cc849-eacc-4a12-bdc9-303d4272e5cc"
      },
      "execution_count": 46,
      "outputs": [
        {
          "output_type": "execute_result",
          "data": {
            "text/plain": [
              "list"
            ]
          },
          "metadata": {},
          "execution_count": 46
        }
      ]
    },
    {
      "cell_type": "code",
      "source": [
        "C. insert (2,\"baliram\")"
      ],
      "metadata": {
        "id": "tAlS628koAMi"
      },
      "execution_count": 47,
      "outputs": []
    },
    {
      "cell_type": "code",
      "source": [
        "print(C)"
      ],
      "metadata": {
        "colab": {
          "base_uri": "https://localhost:8080/"
        },
        "id": "rG3nFkujoKOr",
        "outputId": "0aaebe88-838c-45fd-eb6c-399f3eba3647"
      },
      "execution_count": 48,
      "outputs": [
        {
          "output_type": "stream",
          "name": "stdout",
          "text": [
            "['sambhaji', 'shivaji', 'baliram', 'zambre']\n"
          ]
        }
      ]
    },
    {
      "cell_type": "code",
      "source": [
        "N=\"sambhajizambre\""
      ],
      "metadata": {
        "id": "HbMAeHG0og68"
      },
      "execution_count": 56,
      "outputs": []
    },
    {
      "cell_type": "code",
      "source": [
        "type(N)"
      ],
      "metadata": {
        "colab": {
          "base_uri": "https://localhost:8080/"
        },
        "id": "UuaUskjpohX2",
        "outputId": "247fa5ff-57a4-4fbd-c881-f5afc84905a4"
      },
      "execution_count": 57,
      "outputs": [
        {
          "output_type": "execute_result",
          "data": {
            "text/plain": [
              "str"
            ]
          },
          "metadata": {},
          "execution_count": 57
        }
      ]
    },
    {
      "cell_type": "code",
      "source": [
        "print(N[-2])"
      ],
      "metadata": {
        "colab": {
          "base_uri": "https://localhost:8080/"
        },
        "id": "GX1CtDs8oiGP",
        "outputId": "85f2520a-7ca8-4fac-b113-742aafb6f3ab"
      },
      "execution_count": 58,
      "outputs": [
        {
          "output_type": "stream",
          "name": "stdout",
          "text": [
            "r\n"
          ]
        }
      ]
    },
    {
      "cell_type": "code",
      "source": [
        "print(N[3:8])"
      ],
      "metadata": {
        "colab": {
          "base_uri": "https://localhost:8080/"
        },
        "id": "d6ZSUkNhoiQE",
        "outputId": "0ad3f660-f3e2-4c93-a46d-bc75c1f6f2e7"
      },
      "execution_count": 60,
      "outputs": [
        {
          "output_type": "stream",
          "name": "stdout",
          "text": [
            "bhaji\n"
          ]
        }
      ]
    }
  ]
}