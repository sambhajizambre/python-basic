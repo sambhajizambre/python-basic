{
  "nbformat": 4,
  "nbformat_minor": 0,
  "metadata": {
    "colab": {
      "name": "Untitled7.ipynb",
      "provenance": [],
      "mount_file_id": "1Z8XYO0rP2dhMCtyjfmZrnguwuQ6z2XWZ",
      "authorship_tag": "ABX9TyNFlhfUcQ1ye8Csa0c+TiG4",
      "include_colab_link": true
    },
    "kernelspec": {
      "name": "python3",
      "display_name": "Python 3"
    },
    "language_info": {
      "name": "python"
    }
  },
  "cells": [
    {
      "cell_type": "markdown",
      "metadata": {
        "id": "view-in-github",
        "colab_type": "text"
      },
      "source": [
        "<a href=\"https://colab.research.google.com/github/sambhajizambre/python-basic/blob/main/pandas7.ipynb\" target=\"_parent\"><img src=\"https://colab.research.google.com/assets/colab-badge.svg\" alt=\"Open In Colab\"/></a>"
      ]
    },
    {
      "cell_type": "code",
      "execution_count": 6,
      "metadata": {
        "colab": {
          "base_uri": "https://localhost:8080/"
        },
        "id": "TdLJdAfNA7q5",
        "outputId": "addf7885-9589-4e29-9049-781147d2afd1"
      },
      "outputs": [
        {
          "output_type": "stream",
          "name": "stdout",
          "text": [
            "   customer ID           brand        Date  Brand count  percentage cutoff\n",
            "0            1          adidas  01/01/2021            3                NaN\n",
            "1            1            polo  01/01/2021            1                NaN\n",
            "2            2           levis  02/01/2021            2                NaN\n",
            "3            2  tomy hilfigure  02/01/2021            1                NaN\n",
            "4            2            nike  03/01/2021            4                NaN\n",
            "5            2            puma  03/01/2021            4                NaN\n"
          ]
        }
      ],
      "source": [
        "import pandas as pd\n",
        "import numpy as np\n",
        "data=pd.read_csv(\"/content/drive/MyDrive/python/project python.csv\")\n",
        "print(data)"
      ]
    },
    {
      "cell_type": "code",
      "source": [
        "data.info"
      ],
      "metadata": {
        "colab": {
          "base_uri": "https://localhost:8080/"
        },
        "id": "GJbXsmArCVmx",
        "outputId": "7d84de17-cdaf-4efe-9747-28fe5fef0d5d"
      },
      "execution_count": 7,
      "outputs": [
        {
          "output_type": "execute_result",
          "data": {
            "text/plain": [
              "<bound method DataFrame.info of    customer ID           brand        Date  Brand count  percentage cutoff\n",
              "0            1          adidas  01/01/2021            3                NaN\n",
              "1            1            polo  01/01/2021            1                NaN\n",
              "2            2           levis  02/01/2021            2                NaN\n",
              "3            2  tomy hilfigure  02/01/2021            1                NaN\n",
              "4            2            nike  03/01/2021            4                NaN\n",
              "5            2            puma  03/01/2021            4                NaN>"
            ]
          },
          "metadata": {},
          "execution_count": 7
        }
      ]
    },
    {
      "cell_type": "code",
      "source": [
        "data.describe"
      ],
      "metadata": {
        "colab": {
          "base_uri": "https://localhost:8080/"
        },
        "id": "mnRMV0XaCaSx",
        "outputId": "b1d03891-c412-48bc-fecf-41556f1edebe"
      },
      "execution_count": 8,
      "outputs": [
        {
          "output_type": "execute_result",
          "data": {
            "text/plain": [
              "<bound method NDFrame.describe of    customer ID           brand        Date  Brand count  percentage cutoff\n",
              "0            1          adidas  01/01/2021            3                NaN\n",
              "1            1            polo  01/01/2021            1                NaN\n",
              "2            2           levis  02/01/2021            2                NaN\n",
              "3            2  tomy hilfigure  02/01/2021            1                NaN\n",
              "4            2            nike  03/01/2021            4                NaN\n",
              "5            2            puma  03/01/2021            4                NaN>"
            ]
          },
          "metadata": {},
          "execution_count": 8
        }
      ]
    },
    {
      "cell_type": "code",
      "source": [
        ""
      ],
      "metadata": {
        "id": "qJo91wJTCpmF"
      },
      "execution_count": null,
      "outputs": []
    },
    {
      "cell_type": "code",
      "source": [
        ""
      ],
      "metadata": {
        "id": "dVm0c5cACo77"
      },
      "execution_count": null,
      "outputs": []
    },
    {
      "cell_type": "code",
      "source": [
        ""
      ],
      "metadata": {
        "id": "gBoEV5ZUCos-"
      },
      "execution_count": null,
      "outputs": []
    },
    {
      "cell_type": "code",
      "source": [
        ""
      ],
      "metadata": {
        "id": "K5c8N2A8CoQZ"
      },
      "execution_count": null,
      "outputs": []
    }
  ]
}