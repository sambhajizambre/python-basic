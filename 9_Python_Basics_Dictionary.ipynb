{
  "nbformat": 4,
  "nbformat_minor": 0,
  "metadata": {
    "colab": {
      "name": "9_Python_Basics_Dictionary.ipynb",
      "provenance": [],
      "include_colab_link": true
    },
    "kernelspec": {
      "name": "python3",
      "display_name": "Python 3"
    },
    "language_info": {
      "name": "python"
    }
  },
  "cells": [
    {
      "cell_type": "markdown",
      "metadata": {
        "id": "view-in-github",
        "colab_type": "text"
      },
      "source": [
        "<a href=\"https://colab.research.google.com/github/sambhajizambre/python-basic/blob/main/9_Python_Basics_Dictionary.ipynb\" target=\"_parent\"><img src=\"https://colab.research.google.com/assets/colab-badge.svg\" alt=\"Open In Colab\"/></a>"
      ]
    },
    {
      "cell_type": "markdown",
      "source": [
        "# Dictionary Data Structure\n",
        "\n",
        "֍We can use List, Tuple and Set to represent a group of individual objects as a single entity\n",
        "\n",
        "֍ If we want to represent a group of objects as key-value pairs then we should go for Dictionary.\n",
        "\n",
        " rollno ---- name\n",
        "\n",
        " phone number -- address\n",
        "\n",
        " ipaddress --- domain name\n",
        " \n",
        "֍Duplicate keys are not allowed but values can be duplicated.\n",
        "\n",
        "֍Hetrogeneous objects are allowed for both key and values.\n",
        "\n",
        " ֍Insertion order is not preserved.\n",
        "\n",
        " ֍Dictionaries are mutable.\n",
        "\n",
        " ֍Dictionaries are dynamic.\n",
        "\n",
        " ֍Indexing and slicing concepts are not applicable."
      ],
      "metadata": {
        "id": "FtPHHfBmdHOd"
      }
    },
    {
      "cell_type": "markdown",
      "source": [
        "# How to create a Dictionary?"
      ],
      "metadata": {
        "id": "13i8X3VmdyHL"
      }
    },
    {
      "cell_type": "code",
      "source": [
        "# Creating a empty dictionary\n",
        "# Syntax: d={} OR d=dict()\n",
        "d={}\n",
        "d[100]=\"Manoj\"\n",
        "d[200]=\"Sandeep\"\n",
        "d[300]=\"Yogesh\"\n",
        "print(d)"
      ],
      "metadata": {
        "colab": {
          "base_uri": "https://localhost:8080/"
        },
        "id": "k9r0TSDFd2wa",
        "outputId": "c526a96f-1fe6-4bf4-aacc-cb602157a989"
      },
      "execution_count": null,
      "outputs": [
        {
          "output_type": "stream",
          "name": "stdout",
          "text": [
            "{100: 'Manoj', 200: 'Sandeep', 300: 'Yogesh'}\n"
          ]
        }
      ]
    },
    {
      "cell_type": "code",
      "source": [
        "# If we know the values, we can directly create dict as follow:\n",
        "d = {100: 'Manoj', 200: 'Sandeep', 300: 'Yogesh'}\n",
        "print(d)"
      ],
      "metadata": {
        "colab": {
          "base_uri": "https://localhost:8080/"
        },
        "id": "ARuq4xb7eMPp",
        "outputId": "b13f820a-ea79-4167-f472-e37c52a76832"
      },
      "execution_count": null,
      "outputs": [
        {
          "output_type": "stream",
          "name": "stdout",
          "text": [
            "{100: 'Manoj', 200: 'Sandeep', 300: 'Yogesh'}\n"
          ]
        }
      ]
    },
    {
      "cell_type": "markdown",
      "source": [
        "# How to access data from the dictionary?"
      ],
      "metadata": {
        "id": "36FI299Zeey8"
      }
    },
    {
      "cell_type": "code",
      "source": [
        "# We can access data by using keys.\n",
        "d = {100: 'Manoj', 200: 'Sandeep', 300: 'Yogesh'}\n",
        "d[100]"
      ],
      "metadata": {
        "colab": {
          "base_uri": "https://localhost:8080/",
          "height": 35
        },
        "id": "AIkUO2_cea1F",
        "outputId": "cc27cb84-8216-47c2-8dfd-a7d2706dc7da"
      },
      "execution_count": null,
      "outputs": [
        {
          "output_type": "execute_result",
          "data": {
            "text/plain": [
              "'Manoj'"
            ],
            "application/vnd.google.colaboratory.intrinsic+json": {
              "type": "string"
            }
          },
          "metadata": {},
          "execution_count": 3
        }
      ]
    },
    {
      "cell_type": "markdown",
      "source": [
        "# How to Update Dictionaries?\n",
        "\n",
        "֍ syntax: d[key] = value\n",
        "\n",
        "֍ If the key is not available then a new entry will be added to the dictionary with the\n",
        "specified key-value pair.\n",
        "\n",
        "֍If the key is already available then old value will be replaced with new value.\n"
      ],
      "metadata": {
        "id": "a2I11N6wfJi5"
      }
    },
    {
      "cell_type": "code",
      "source": [
        "d={100:\"shriniwas\",200:\"sushil\",300:\"akash\"}\n",
        "print(d)\n",
        "d[400]=\"vinayak\"\n",
        "print(d)\n",
        "d[100]=\"amol\"\n",
        "print(d)"
      ],
      "metadata": {
        "colab": {
          "base_uri": "https://localhost:8080/"
        },
        "id": "9K6nweKne4Dt",
        "outputId": "6d805ba7-4b4a-4cbb-9cfc-c023f7ff868a"
      },
      "execution_count": null,
      "outputs": [
        {
          "output_type": "stream",
          "name": "stdout",
          "text": [
            "{100: 'shriniwas', 200: 'sushil', 300: 'akash'}\n",
            "{100: 'shriniwas', 200: 'sushil', 300: 'akash', 400: 'vinayak'}\n",
            "{100: 'amol', 200: 'sushil', 300: 'akash', 400: 'vinayak'}\n"
          ]
        }
      ]
    },
    {
      "cell_type": "markdown",
      "source": [
        "# How to Delete Elements from Dictionary?"
      ],
      "metadata": {
        "id": "kb9CYu19fywP"
      }
    },
    {
      "cell_type": "code",
      "source": [
        "#1. del d[key]\n",
        "# It deletes entry associated with the specified key.\n",
        "#If the key is not available then we will get KeyError.\n",
        "d={100:\"apple\",200:\"ball\",300:\"cat\"}\n",
        "print(d)\n",
        "del d[100]\n",
        "print(d)\n",
        "del d[400]"
      ],
      "metadata": {
        "colab": {
          "base_uri": "https://localhost:8080/",
          "height": 239
        },
        "id": "WQvlpyqtft-3",
        "outputId": "e209c9e0-60c1-4b3e-8630-e1ce33e0ea7b"
      },
      "execution_count": null,
      "outputs": [
        {
          "output_type": "stream",
          "name": "stdout",
          "text": [
            "{100: 'apple', 200: 'ball', 300: 'cat'}\n",
            "{200: 'ball', 300: 'cat'}\n"
          ]
        },
        {
          "output_type": "error",
          "ename": "KeyError",
          "evalue": "ignored",
          "traceback": [
            "\u001b[0;31m---------------------------------------------------------------------------\u001b[0m",
            "\u001b[0;31mKeyError\u001b[0m                                  Traceback (most recent call last)",
            "\u001b[0;32m<ipython-input-6-0b5070dd0c62>\u001b[0m in \u001b[0;36m<module>\u001b[0;34m()\u001b[0m\n\u001b[1;32m      6\u001b[0m \u001b[0;32mdel\u001b[0m \u001b[0md\u001b[0m\u001b[0;34m[\u001b[0m\u001b[0;36m100\u001b[0m\u001b[0;34m]\u001b[0m\u001b[0;34m\u001b[0m\u001b[0;34m\u001b[0m\u001b[0m\n\u001b[1;32m      7\u001b[0m \u001b[0mprint\u001b[0m\u001b[0;34m(\u001b[0m\u001b[0md\u001b[0m\u001b[0;34m)\u001b[0m\u001b[0;34m\u001b[0m\u001b[0;34m\u001b[0m\u001b[0m\n\u001b[0;32m----> 8\u001b[0;31m \u001b[0;32mdel\u001b[0m \u001b[0md\u001b[0m\u001b[0;34m[\u001b[0m\u001b[0;36m400\u001b[0m\u001b[0;34m]\u001b[0m\u001b[0;34m\u001b[0m\u001b[0;34m\u001b[0m\u001b[0m\n\u001b[0m",
            "\u001b[0;31mKeyError\u001b[0m: 400"
          ]
        }
      ]
    },
    {
      "cell_type": "code",
      "source": [
        "# 2. clear(): To remove all entries from the dictionary\n",
        "d={100:\"apple\",200:\"ball\",300:\"cat\"}\n",
        "print(d)\n",
        "d.clear()\n",
        "print(d)"
      ],
      "metadata": {
        "colab": {
          "base_uri": "https://localhost:8080/"
        },
        "id": "22aMhubGgHEN",
        "outputId": "4e8c88b4-bbd1-44e5-b591-5440da901706"
      },
      "execution_count": null,
      "outputs": [
        {
          "output_type": "stream",
          "name": "stdout",
          "text": [
            "{100: 'apple', 200: 'ball', 300: 'cat'}\n",
            "{}\n"
          ]
        }
      ]
    },
    {
      "cell_type": "code",
      "source": [
        "# 3. del(): To delete total dict.\n",
        "d={100:\"apple\",200:\"ball\",300:\"cat\"}\n",
        "print(d)\n",
        "del d\n",
        "print(d) # we have deleted the dict hence throwing error"
      ],
      "metadata": {
        "colab": {
          "base_uri": "https://localhost:8080/",
          "height": 221
        },
        "id": "JAW8efeQgaJT",
        "outputId": "ab4d3745-3045-4afb-ebb4-eb82b498d89e"
      },
      "execution_count": null,
      "outputs": [
        {
          "output_type": "stream",
          "name": "stdout",
          "text": [
            "{100: 'apple', 200: 'ball', 300: 'cat'}\n"
          ]
        },
        {
          "output_type": "error",
          "ename": "NameError",
          "evalue": "ignored",
          "traceback": [
            "\u001b[0;31m---------------------------------------------------------------------------\u001b[0m",
            "\u001b[0;31mNameError\u001b[0m                                 Traceback (most recent call last)",
            "\u001b[0;32m<ipython-input-8-d53db0a7c6a1>\u001b[0m in \u001b[0;36m<module>\u001b[0;34m()\u001b[0m\n\u001b[1;32m      3\u001b[0m \u001b[0mprint\u001b[0m\u001b[0;34m(\u001b[0m\u001b[0md\u001b[0m\u001b[0;34m)\u001b[0m\u001b[0;34m\u001b[0m\u001b[0;34m\u001b[0m\u001b[0m\n\u001b[1;32m      4\u001b[0m \u001b[0;32mdel\u001b[0m \u001b[0md\u001b[0m\u001b[0;34m\u001b[0m\u001b[0;34m\u001b[0m\u001b[0m\n\u001b[0;32m----> 5\u001b[0;31m \u001b[0mprint\u001b[0m\u001b[0;34m(\u001b[0m\u001b[0md\u001b[0m\u001b[0;34m)\u001b[0m\u001b[0;34m\u001b[0m\u001b[0;34m\u001b[0m\u001b[0m\n\u001b[0m",
            "\u001b[0;31mNameError\u001b[0m: name 'd' is not defined"
          ]
        }
      ]
    },
    {
      "cell_type": "markdown",
      "source": [
        "# Important Functions of Dictionary:"
      ],
      "metadata": {
        "id": "QnmvIa7ygv_y"
      }
    },
    {
      "cell_type": "code",
      "source": [
        "#1. dict(): to create a dict.\n",
        "d=dict()\n",
        "type(d)"
      ],
      "metadata": {
        "colab": {
          "base_uri": "https://localhost:8080/"
        },
        "id": "OeyLBlXYgk51",
        "outputId": "9994ce12-f9d1-46c7-a3cf-579cc00c77e5"
      },
      "execution_count": null,
      "outputs": [
        {
          "output_type": "execute_result",
          "data": {
            "text/plain": [
              "dict"
            ]
          },
          "metadata": {},
          "execution_count": 9
        }
      ]
    },
    {
      "cell_type": "code",
      "source": [
        "# How to add elemets inside dict function\n",
        "d = dict([(100,\"apple\"),(200,\"ball\"),(300,\"cat\")])\n",
        "d"
      ],
      "metadata": {
        "colab": {
          "base_uri": "https://localhost:8080/"
        },
        "id": "u7aOR0pZg4aU",
        "outputId": "ff436aa5-c730-43c3-c0ed-bc80742e42f8"
      },
      "execution_count": null,
      "outputs": [
        {
          "output_type": "execute_result",
          "data": {
            "text/plain": [
              "{100: 'apple', 200: 'ball', 300: 'cat'}"
            ]
          },
          "metadata": {},
          "execution_count": 10
        }
      ]
    },
    {
      "cell_type": "code",
      "source": [
        "#2. len(): number of items in the dict\n",
        "len(d)"
      ],
      "metadata": {
        "colab": {
          "base_uri": "https://localhost:8080/"
        },
        "id": "Ahg01I78hB2J",
        "outputId": "076c7450-19e7-4c72-dd49-f27618de3630"
      },
      "execution_count": null,
      "outputs": [
        {
          "output_type": "execute_result",
          "data": {
            "text/plain": [
              "3"
            ]
          },
          "metadata": {},
          "execution_count": 11
        }
      ]
    },
    {
      "cell_type": "code",
      "source": [
        "#3. get(): to get the value associated with the key\n",
        "'''  Syntax: d.get(key)\n",
        " If the key is available then returns the corresponding value otherwise returns None.It\n",
        " wont raise any error.'''\n",
        "d.get(100)"
      ],
      "metadata": {
        "colab": {
          "base_uri": "https://localhost:8080/",
          "height": 35
        },
        "id": "XtiH3mJohJav",
        "outputId": "bc0e98ad-e440-4a92-e21c-41c0af4e9d29"
      },
      "execution_count": null,
      "outputs": [
        {
          "output_type": "execute_result",
          "data": {
            "text/plain": [
              "'apple'"
            ],
            "application/vnd.google.colaboratory.intrinsic+json": {
              "type": "string"
            }
          },
          "metadata": {},
          "execution_count": 13
        }
      ]
    },
    {
      "cell_type": "code",
      "source": [
        "page 136"
      ],
      "metadata": {
        "id": "7RzS2NyJhbG-"
      },
      "execution_count": null,
      "outputs": []
    }
  ]
}