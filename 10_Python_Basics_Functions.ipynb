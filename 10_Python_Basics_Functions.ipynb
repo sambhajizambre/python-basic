{
  "nbformat": 4,
  "nbformat_minor": 0,
  "metadata": {
    "colab": {
      "name": "10_Python Basics_Functions.ipynb",
      "provenance": [],
      "include_colab_link": true
    },
    "kernelspec": {
      "name": "python3",
      "display_name": "Python 3"
    },
    "language_info": {
      "name": "python"
    }
  },
  "cells": [
    {
      "cell_type": "markdown",
      "metadata": {
        "id": "view-in-github",
        "colab_type": "text"
      },
      "source": [
        "<a href=\"https://colab.research.google.com/github/sambhajizambre/python-basic/blob/main/10_Python_Basics_Functions.ipynb\" target=\"_parent\"><img src=\"https://colab.research.google.com/assets/colab-badge.svg\" alt=\"Open In Colab\"/></a>"
      ]
    },
    {
      "cell_type": "markdown",
      "source": [
        "# **Functions**\n",
        "\n",
        "֍ If a group of statements is repeatedly required then it is not recommended to write\n",
        "these statements everytime seperately.We have to define these statements as a single\n",
        "unit and we can call that unit any number of times based on our requirement without\n",
        "rewriting. This unit is nothing but function.\n",
        "\n",
        "֍ The main advantage of functions is code Reusability.\n",
        "\n",
        "֍ Python supports two types of functions:\n",
        "1. Built-in function\n",
        "2. User defined function\n",
        "\n",
        "1. Built in Functions:\n",
        "\n",
        "  The functions which are coming along with Python software automatically, are called\n",
        " built in functions or pre defined functions.\n",
        "\n",
        " e.g. id(), type(), input(),eval()\n",
        "\n",
        " 2. User defined function:\n",
        "\n",
        "  The functions which are developed by programmer explicitly according to business\n",
        " requirements, are called user defined functions.\n",
        "\n",
        " **Syntax:**\n",
        "\n",
        " def function_name(parameters):\n",
        "\n",
        "     ''' doc string'''\n",
        "\n",
        "     python code\n",
        "\n",
        "     return value\n",
        "\n",
        "    \n",
        "     \n",
        "\n"
      ],
      "metadata": {
        "id": "5qCfD1jRgVYu"
      }
    },
    {
      "cell_type": "code",
      "source": [
        "def wish():\n",
        "  print(\"Hello Good Morning\")\n",
        "  wish()"
      ],
      "metadata": {
        "id": "btoJYG3ohl0s"
      },
      "execution_count": null,
      "outputs": []
    },
    {
      "cell_type": "markdown",
      "source": [
        "# Parameters\n",
        "Parameters are inputs to the function. If a function contains parameters, then at the time\n",
        "of calling,compulsory we should provide values otherwise,otherwise we will get error.\n",
        "\n",
        "Eg: Write a function to take name of the student as input and print wish message by\n",
        "name.\n",
        "\n"
      ],
      "metadata": {
        "id": "MNJTnrryh-F0"
      }
    },
    {
      "cell_type": "code",
      "source": [
        "def wish(name):\n",
        "  print(\"Hello\",name,\" Good Morning\")"
      ],
      "metadata": {
        "id": "Ncgn3ImAiEQ8"
      },
      "execution_count": null,
      "outputs": []
    },
    {
      "cell_type": "code",
      "source": [
        "wish(\"Shriniwas\")"
      ],
      "metadata": {
        "colab": {
          "base_uri": "https://localhost:8080/"
        },
        "id": "VL3QTj8UiLT7",
        "outputId": "d1997710-972a-4e71-baed-1f3dcb196c5c"
      },
      "execution_count": null,
      "outputs": [
        {
          "output_type": "stream",
          "name": "stdout",
          "text": [
            "Hello Shriniwas  Good Morning\n"
          ]
        }
      ]
    },
    {
      "cell_type": "code",
      "source": [
        "# Eg: Write a function to take number as input and print its square value\n",
        "def squareIt(number):\n",
        "  print(number*number)"
      ],
      "metadata": {
        "id": "l18docjliPea"
      },
      "execution_count": null,
      "outputs": []
    },
    {
      "cell_type": "code",
      "source": [
        "squareIt(5)"
      ],
      "metadata": {
        "colab": {
          "base_uri": "https://localhost:8080/"
        },
        "id": "3MuhKiM9ic4r",
        "outputId": "149aabdc-76b9-4924-d049-f3b5c9405aba"
      },
      "execution_count": null,
      "outputs": [
        {
          "output_type": "stream",
          "name": "stdout",
          "text": [
            "25\n"
          ]
        }
      ]
    },
    {
      "cell_type": "markdown",
      "source": [
        "#  Return Statement:\n",
        "  Function can take input values as parameters and executes business logic, and returns\n",
        " output to the caller with return statement.\n",
        "\n",
        "  Q) Write a Function to accept 2 Numbers as Input and\n",
        "  return Sum"
      ],
      "metadata": {
        "id": "Ye3gNQIWijOO"
      }
    },
    {
      "cell_type": "code",
      "source": [
        "def add(x,y):\n",
        "    return x+y"
      ],
      "metadata": {
        "id": "6UGNSZ5jiffU"
      },
      "execution_count": null,
      "outputs": []
    },
    {
      "cell_type": "code",
      "source": [
        "add(6,7)"
      ],
      "metadata": {
        "colab": {
          "base_uri": "https://localhost:8080/"
        },
        "id": "gymUBO7hi2bd",
        "outputId": "40c1211d-65c7-40d2-bb30-ff2ec4a37d8c"
      },
      "execution_count": null,
      "outputs": [
        {
          "output_type": "execute_result",
          "data": {
            "text/plain": [
              "13"
            ]
          },
          "metadata": {},
          "execution_count": 8
        }
      ]
    },
    {
      "cell_type": "code",
      "source": [
        "add(5,5)"
      ],
      "metadata": {
        "colab": {
          "base_uri": "https://localhost:8080/"
        },
        "id": "gK7IxCqZmBMg",
        "outputId": "7b1ec725-cdcb-460a-bd8b-71943f23c3ef"
      },
      "execution_count": null,
      "outputs": [
        {
          "output_type": "execute_result",
          "data": {
            "text/plain": [
              "10"
            ]
          },
          "metadata": {},
          "execution_count": 12
        }
      ]
    },
    {
      "cell_type": "code",
      "source": [
        " \"\"\"Q) Write a Function to check whether the given Number is\n",
        "  Even OR Odd?\"\"\"\n",
        "\n",
        "def even_odd(num):\n",
        "   if num%2==0:\n",
        "     print(num,\"is Even Number\")\n",
        "   else:\n",
        "     print(num,\"is Odd Number\")"
      ],
      "metadata": {
        "id": "6eC_BefzmGKI"
      },
      "execution_count": null,
      "outputs": []
    },
    {
      "cell_type": "code",
      "source": [
        "even_odd(5)"
      ],
      "metadata": {
        "colab": {
          "base_uri": "https://localhost:8080/"
        },
        "id": "heJ9gsSotNf4",
        "outputId": "f99fabee-cb33-4b31-baee-b857d0e74e3b"
      },
      "execution_count": null,
      "outputs": [
        {
          "output_type": "stream",
          "name": "stdout",
          "text": [
            "5 is Odd Number\n"
          ]
        }
      ]
    },
    {
      "cell_type": "code",
      "source": [
        "\"Q) Write a Function to find Factorial of given Number?\"\n",
        "\n",
        "def fact(num):\n",
        "    result=1\n",
        "    while num>=1:\n",
        "      result=result*num\n",
        "      num=num-1\n",
        "    return result\n"
      ],
      "metadata": {
        "id": "NFLMRcEvtREG"
      },
      "execution_count": null,
      "outputs": []
    },
    {
      "cell_type": "code",
      "source": [
        "for i in range(1,5):\n",
        "   print(\"The Factorial of\",i,\"is :\",fact(i))"
      ],
      "metadata": {
        "colab": {
          "base_uri": "https://localhost:8080/"
        },
        "id": "W7Sp4uAotk4_",
        "outputId": "7982aaa6-5d36-4ded-d8d5-b0b42ce49a78"
      },
      "execution_count": null,
      "outputs": [
        {
          "output_type": "stream",
          "name": "stdout",
          "text": [
            "The Factorial of 1 is : 1\n",
            "The Factorial of 2 is : 2\n",
            "The Factorial of 3 is : 6\n",
            "The Factorial of 4 is : 24\n"
          ]
        }
      ]
    },
    {
      "cell_type": "markdown",
      "source": [
        "# Returning Multiple Values from a Function:"
      ],
      "metadata": {
        "id": "fylfk9D_t00y"
      }
    },
    {
      "cell_type": "code",
      "source": [
        "def sum_sub(a,b):\n",
        "    sum=a+b\n",
        "    sub=a-b\n",
        "    return sum,sub"
      ],
      "metadata": {
        "id": "XRfwiPWutn3x"
      },
      "execution_count": null,
      "outputs": []
    },
    {
      "cell_type": "code",
      "source": [
        "x,y=sum_sub(100,50)\n",
        "print(\"The Sum is:\",x)\n",
        "print(\"The Subtraction is:\",y)"
      ],
      "metadata": {
        "colab": {
          "base_uri": "https://localhost:8080/"
        },
        "id": "zgTeyEGRt8r3",
        "outputId": "2f6b2013-f3cb-4333-e549-6f6e1e44b403"
      },
      "execution_count": null,
      "outputs": [
        {
          "output_type": "stream",
          "name": "stdout",
          "text": [
            "The Sum is: 150\n",
            "The Subtraction is: 50\n"
          ]
        }
      ]
    },
    {
      "cell_type": "code",
      "source": [
        "sum_sub(100,50)"
      ],
      "metadata": {
        "colab": {
          "base_uri": "https://localhost:8080/"
        },
        "id": "gb651cgDuDJ6",
        "outputId": "ad57fc20-5bc0-4962-fd3b-db753609a30b"
      },
      "execution_count": null,
      "outputs": [
        {
          "output_type": "execute_result",
          "data": {
            "text/plain": [
              "(150, 50)"
            ]
          },
          "metadata": {},
          "execution_count": 8
        }
      ]
    },
    {
      "cell_type": "markdown",
      "source": [
        "# Types of Arguments\n",
        "\n",
        " def f1(a,b):\n",
        "\n",
        "  \n",
        "\n",
        "-\n",
        "\n",
        "-\n",
        "\n",
        "f1(10,20)\n",
        "\n",
        "a, b are formal arguments where as 10,20 are actual arguments.\n",
        " "
      ],
      "metadata": {
        "id": "OtXfBuIDuY5M"
      }
    },
    {
      "cell_type": "markdown",
      "source": [
        " There are 4 types are actual arguments are allowed in Python.\n",
        "\n",
        "1. Positional Arguments\n",
        "2. Keyword Arguments\n",
        "3. Default Arguments\n",
        "4. Variable length arguments"
      ],
      "metadata": {
        "id": "wY4iOpGuu4mR"
      }
    },
    {
      "cell_type": "markdown",
      "source": [
        "## 1. Positional Arguments\n",
        "\n",
        " These are the arguments passed to function in correct positional order.\n",
        "\n",
        " def sub(a, b):\n",
        "\n",
        " print(a-b)\n",
        "\n",
        " sub(100, 200) \n",
        " \n",
        " sub(200, 100)\n",
        " \n",
        " The number of arguments and position of arguments must be matched. If we change\n",
        " the order then result may be changed.\n",
        " "
      ],
      "metadata": {
        "id": "g0dknDX8vDqT"
      }
    },
    {
      "cell_type": "markdown",
      "source": [
        "## 2. Keyword Arguments:\n",
        "\n",
        "We can pass argument values by keyword i.e by parameter name."
      ],
      "metadata": {
        "id": "_akNZMBivW9Z"
      }
    },
    {
      "cell_type": "code",
      "source": [
        "def wish(name,msg):\n",
        "    print(\"Hello\",name,msg)"
      ],
      "metadata": {
        "id": "FJoVpFBquHDg"
      },
      "execution_count": null,
      "outputs": []
    },
    {
      "cell_type": "code",
      "source": [
        "wish(name=\"Yogesh\",msg=\"Good Morning\")"
      ],
      "metadata": {
        "colab": {
          "base_uri": "https://localhost:8080/"
        },
        "id": "iGaOtkRevmTl",
        "outputId": "2d534978-125f-4183-ad8f-1986f4216c86"
      },
      "execution_count": null,
      "outputs": [
        {
          "output_type": "stream",
          "name": "stdout",
          "text": [
            "Hello Yogesh GoodMorning\n"
          ]
        }
      ]
    },
    {
      "cell_type": "code",
      "source": [
        "#position changed. Still working\n",
        "wish(msg=\"Good Morning\",name=\"Akash\")"
      ],
      "metadata": {
        "colab": {
          "base_uri": "https://localhost:8080/"
        },
        "id": "2bAuFWcuvsOP",
        "outputId": "23f778d9-13bf-4d80-d909-cb597b1bb38e"
      },
      "execution_count": null,
      "outputs": [
        {
          "output_type": "stream",
          "name": "stdout",
          "text": [
            "Hello Akash Good Morning\n"
          ]
        }
      ]
    },
    {
      "cell_type": "markdown",
      "source": [
        "# 3. Default Arguments:\n",
        "\n",
        "Sometimes we can provide default values for our positional arguments."
      ],
      "metadata": {
        "id": "Ui2LTfptwm7N"
      }
    },
    {
      "cell_type": "code",
      "source": [
        "def wish(name=\"Guest\"):\n",
        "    print(\"Hello\",name,\"Good Morning\")"
      ],
      "metadata": {
        "id": "2Evddd93wCyS"
      },
      "execution_count": null,
      "outputs": []
    },
    {
      "cell_type": "code",
      "source": [
        "wish(\"Satish\")"
      ],
      "metadata": {
        "colab": {
          "base_uri": "https://localhost:8080/"
        },
        "id": "Qs0zUekQwy0-",
        "outputId": "7f82ebbb-3b7b-4be1-8262-fb5fd18f6086"
      },
      "execution_count": null,
      "outputs": [
        {
          "output_type": "stream",
          "name": "stdout",
          "text": [
            "Hello Satish Good Morning\n"
          ]
        }
      ]
    },
    {
      "cell_type": "code",
      "source": [
        "wish()"
      ],
      "metadata": {
        "colab": {
          "base_uri": "https://localhost:8080/"
        },
        "id": "5L5pDpHFw1dd",
        "outputId": "d23a3add-248b-48cb-bfec-af9d5074be7d"
      },
      "execution_count": null,
      "outputs": [
        {
          "output_type": "stream",
          "name": "stdout",
          "text": [
            "Hello Guest Good Morning\n"
          ]
        }
      ]
    },
    {
      "cell_type": "markdown",
      "source": [
        "## 4. Variable Length Arguments:\n",
        "\n",
        "Sometimes we can pass variable number of arguments to our function, such type of\n",
        "arguments are called variable length arguments.\n",
        "\n",
        "We can declare a variable length argument with * symbol as follows\n",
        "\n",
        "def f1(*n):\n",
        "\n",
        "We can call this function by passing any number of arguments including zero number.\n",
        "\n",
        "Internally all these values represented in the form of tuple.\n"
      ],
      "metadata": {
        "id": "8bMYH5uDxiI4"
      }
    },
    {
      "cell_type": "code",
      "source": [
        "def sum(*n):\n",
        "    total=0\n",
        "    for n1 in n:\n",
        "      total=total+n1\n",
        "    print(\"The Sum=\",total)\n"
      ],
      "metadata": {
        "id": "g2BYznz3w8eU"
      },
      "execution_count": null,
      "outputs": []
    },
    {
      "cell_type": "code",
      "source": [
        "sum()"
      ],
      "metadata": {
        "colab": {
          "base_uri": "https://localhost:8080/"
        },
        "id": "01zhjXy_yNtp",
        "outputId": "dc800da7-889a-48e6-de2d-6d6eb8b236f0"
      },
      "execution_count": null,
      "outputs": [
        {
          "output_type": "stream",
          "name": "stdout",
          "text": [
            "The Sum= 0\n"
          ]
        }
      ]
    },
    {
      "cell_type": "code",
      "source": [
        "sum(10)"
      ],
      "metadata": {
        "colab": {
          "base_uri": "https://localhost:8080/"
        },
        "id": "m4qlLppKyPzO",
        "outputId": "ca23a431-e721-4264-f912-b27f0f45e8fe"
      },
      "execution_count": null,
      "outputs": [
        {
          "output_type": "stream",
          "name": "stdout",
          "text": [
            "The Sum= 10\n"
          ]
        }
      ]
    },
    {
      "cell_type": "code",
      "source": [
        "sum(10,20)"
      ],
      "metadata": {
        "colab": {
          "base_uri": "https://localhost:8080/"
        },
        "id": "VsHrFJd6yTOD",
        "outputId": "732245d6-a0cd-42b8-b66f-01be6d7fd08d"
      },
      "execution_count": null,
      "outputs": [
        {
          "output_type": "stream",
          "name": "stdout",
          "text": [
            "The Sum= 30\n"
          ]
        }
      ]
    },
    {
      "cell_type": "code",
      "source": [
        "sum(10,20,30,40)"
      ],
      "metadata": {
        "colab": {
          "base_uri": "https://localhost:8080/"
        },
        "id": "VmniuponyVqi",
        "outputId": "c142e613-82b0-4cb2-b888-98db1e97c9b0"
      },
      "execution_count": null,
      "outputs": [
        {
          "output_type": "stream",
          "name": "stdout",
          "text": [
            "The Sum= 100\n"
          ]
        }
      ]
    },
    {
      "cell_type": "code",
      "source": [
        "# We can mix variable length arguments with positional arguments.\n",
        "\n",
        "def f1(n1,*s):\n",
        "    print(n1)\n",
        "    for s1 in s:\n",
        "      print(s1)"
      ],
      "metadata": {
        "id": "5bFrfcxvyXXg"
      },
      "execution_count": null,
      "outputs": []
    },
    {
      "cell_type": "code",
      "source": [
        "f1(10)"
      ],
      "metadata": {
        "colab": {
          "base_uri": "https://localhost:8080/"
        },
        "id": "_8zo78l8yjUQ",
        "outputId": "ecc369e8-50a5-46bf-cdc5-8dbe1a3d8bd4"
      },
      "execution_count": null,
      "outputs": [
        {
          "output_type": "stream",
          "name": "stdout",
          "text": [
            "10\n"
          ]
        }
      ]
    },
    {
      "cell_type": "code",
      "source": [
        "f1(10,20,30,40)"
      ],
      "metadata": {
        "colab": {
          "base_uri": "https://localhost:8080/"
        },
        "id": "UVN7KPXMylYM",
        "outputId": "e3fdbab6-623c-4cef-bd9d-cf622e546eac"
      },
      "execution_count": null,
      "outputs": [
        {
          "output_type": "stream",
          "name": "stdout",
          "text": [
            "10\n",
            "20\n",
            "30\n",
            "40\n"
          ]
        }
      ]
    },
    {
      "cell_type": "code",
      "source": [
        "f1(10,\"A\",30,\"B\")"
      ],
      "metadata": {
        "colab": {
          "base_uri": "https://localhost:8080/"
        },
        "id": "hL-veCuNyolZ",
        "outputId": "a89690b2-085a-44c3-d52a-eb1b923231d3"
      },
      "execution_count": null,
      "outputs": [
        {
          "output_type": "stream",
          "name": "stdout",
          "text": [
            "10\n",
            "A\n",
            "30\n",
            "B\n"
          ]
        }
      ]
    },
    {
      "cell_type": "markdown",
      "source": [
        " Note: After variable length argument,if we are taking any other arguments then we\n",
        "  should provide values as keyword arguments."
      ],
      "metadata": {
        "id": "CZ7pge1Cy-sH"
      }
    },
    {
      "cell_type": "code",
      "source": [
        "def f1(*s,n1):\n",
        "    for s1 in s:\n",
        "      print(s1)\n",
        "    print(n1)\n",
        "\n",
        "f1(\"A\",\"B\",n1=10)"
      ],
      "metadata": {
        "colab": {
          "base_uri": "https://localhost:8080/"
        },
        "id": "sAOle1-Byuwl",
        "outputId": "b265eea3-5472-4407-9957-2d60b5149138"
      },
      "execution_count": null,
      "outputs": [
        {
          "output_type": "stream",
          "name": "stdout",
          "text": [
            "A\n",
            "B\n",
            "10\n"
          ]
        }
      ]
    },
    {
      "cell_type": "markdown",
      "source": [
        "### Note: We can declare key word variable length arguments also.\n",
        "\n",
        " We can call this function by passing any number of keyword arguments. Internally\n",
        " these keyword arguments will be stored inside a dictionary."
      ],
      "metadata": {
        "id": "mjGR3ekozVCy"
      }
    },
    {
      "cell_type": "code",
      "source": [
        "def display(**kwargs):\n",
        "    for k,v in kwargs.items():\n",
        "       print(k,\"=\",v)"
      ],
      "metadata": {
        "id": "pDJVARz1zKqX"
      },
      "execution_count": null,
      "outputs": []
    },
    {
      "cell_type": "code",
      "source": [
        "display(n1=10,n2=20,n3=30)"
      ],
      "metadata": {
        "colab": {
          "base_uri": "https://localhost:8080/"
        },
        "id": "gKco_4rlc65r",
        "outputId": "82334c90-4753-4f29-93b7-3f9a62647304"
      },
      "execution_count": null,
      "outputs": [
        {
          "output_type": "stream",
          "name": "stdout",
          "text": [
            "n1 = 10\n",
            "n2 = 20\n",
            "n3 = 30\n"
          ]
        }
      ]
    },
    {
      "cell_type": "code",
      "source": [
        "display(rno=100,name=\"Vinayak\",marks=70,subject=\"Java\")"
      ],
      "metadata": {
        "colab": {
          "base_uri": "https://localhost:8080/"
        },
        "id": "jwgW-nhddATp",
        "outputId": "244378eb-54fa-4faa-cb36-404b41258f8b"
      },
      "execution_count": null,
      "outputs": [
        {
          "output_type": "stream",
          "name": "stdout",
          "text": [
            "rno = 100\n",
            "name = Vinayak\n",
            "marks = 70\n",
            "subject = Java\n"
          ]
        }
      ]
    },
    {
      "cell_type": "markdown",
      "source": [
        " ### Note: Function vs Module vs Library\n",
        "  A group of lines with some name is called a function\n",
        "\n",
        " A group of functions saved to a file, is called Module\n",
        " \n",
        " A group of Modules is nothing but Library"
      ],
      "metadata": {
        "id": "BOJkbIS7daBN"
      }
    },
    {
      "cell_type": "markdown",
      "source": [
        "#  Types of Variables\n",
        "  Python supports 2 types of variables.\n",
        "1. Global Variables\n",
        "2. Local Variables"
      ],
      "metadata": {
        "id": "bGTQ6drCdksh"
      }
    },
    {
      "cell_type": "code",
      "source": [
        "a=10 # global variable(defined outside the function)\n",
        "def f1():\n",
        "   print(a)\n",
        "\n",
        "def f2():\n",
        "    print(a)\n",
        "\n",
        "f1()\n",
        "f2()"
      ],
      "metadata": {
        "colab": {
          "base_uri": "https://localhost:8080/"
        },
        "id": "i4FnAETMdEiv",
        "outputId": "9803ae12-8a8b-475e-ae1e-f8521de2fb3e"
      },
      "execution_count": null,
      "outputs": [
        {
          "output_type": "stream",
          "name": "stdout",
          "text": [
            "10\n",
            "10\n"
          ]
        }
      ]
    },
    {
      "cell_type": "markdown",
      "source": [
        "2. Local Variables:\n",
        "\n",
        "  The variables which are declared inside a function are called local variables.\n",
        "\n",
        " Local variables are available only for the function in which we declared it.\n",
        " "
      ],
      "metadata": {
        "id": "GNimtvUMd8UB"
      }
    },
    {
      "cell_type": "code",
      "source": [
        "def f1():\n",
        "    a=10\n",
        "    print(a) # valid"
      ],
      "metadata": {
        "id": "i53CLKI0dySt"
      },
      "execution_count": null,
      "outputs": []
    },
    {
      "cell_type": "code",
      "source": [
        "f1()"
      ],
      "metadata": {
        "colab": {
          "base_uri": "https://localhost:8080/"
        },
        "id": "HJzNVLRqeL0K",
        "outputId": "99a97d66-ef4f-4f8d-8e8e-9e435b1be927"
      },
      "execution_count": null,
      "outputs": [
        {
          "output_type": "stream",
          "name": "stdout",
          "text": [
            "10\n"
          ]
        }
      ]
    },
    {
      "cell_type": "code",
      "source": [
        "# We didn't\n",
        "def f22():\n",
        "    print(b) #invalid\n",
        "\n",
        "f22()"
      ],
      "metadata": {
        "colab": {
          "base_uri": "https://localhost:8080/",
          "height": 310
        },
        "id": "V0e_3-zqeNC3",
        "outputId": "a789f597-14ae-42be-c33e-33274b72c4ba"
      },
      "execution_count": null,
      "outputs": [
        {
          "output_type": "error",
          "ename": "NameError",
          "evalue": "ignored",
          "traceback": [
            "\u001b[0;31m---------------------------------------------------------------------------\u001b[0m",
            "\u001b[0;31mNameError\u001b[0m                                 Traceback (most recent call last)",
            "\u001b[0;32m<ipython-input-10-cc8a373800f0>\u001b[0m in \u001b[0;36m<module>\u001b[0;34m()\u001b[0m\n\u001b[1;32m      2\u001b[0m     \u001b[0mprint\u001b[0m\u001b[0;34m(\u001b[0m\u001b[0mb\u001b[0m\u001b[0;34m)\u001b[0m \u001b[0;31m#invalid\u001b[0m\u001b[0;34m\u001b[0m\u001b[0;34m\u001b[0m\u001b[0m\n\u001b[1;32m      3\u001b[0m \u001b[0;34m\u001b[0m\u001b[0m\n\u001b[0;32m----> 4\u001b[0;31m \u001b[0mf22\u001b[0m\u001b[0;34m(\u001b[0m\u001b[0;34m)\u001b[0m\u001b[0;34m\u001b[0m\u001b[0;34m\u001b[0m\u001b[0m\n\u001b[0m",
            "\u001b[0;32m<ipython-input-10-cc8a373800f0>\u001b[0m in \u001b[0;36mf22\u001b[0;34m()\u001b[0m\n\u001b[1;32m      1\u001b[0m \u001b[0;32mdef\u001b[0m \u001b[0mf22\u001b[0m\u001b[0;34m(\u001b[0m\u001b[0;34m)\u001b[0m\u001b[0;34m:\u001b[0m\u001b[0;34m\u001b[0m\u001b[0;34m\u001b[0m\u001b[0m\n\u001b[0;32m----> 2\u001b[0;31m     \u001b[0mprint\u001b[0m\u001b[0;34m(\u001b[0m\u001b[0mb\u001b[0m\u001b[0;34m)\u001b[0m \u001b[0;31m#invalid\u001b[0m\u001b[0;34m\u001b[0m\u001b[0;34m\u001b[0m\u001b[0m\n\u001b[0m\u001b[1;32m      3\u001b[0m \u001b[0;34m\u001b[0m\u001b[0m\n\u001b[1;32m      4\u001b[0m \u001b[0mf22\u001b[0m\u001b[0;34m(\u001b[0m\u001b[0;34m)\u001b[0m\u001b[0;34m\u001b[0m\u001b[0;34m\u001b[0m\u001b[0m\n",
            "\u001b[0;31mNameError\u001b[0m: name 'b' is not defined"
          ]
        }
      ]
    },
    {
      "cell_type": "code",
      "source": [
        "\"\"\"Note: If global variable and local variable having the same name then we can access\n",
        "  global variable inside a function as follows\"\"\"\n",
        "\n",
        "a = 10#Global Variable\n",
        "def f1():\n",
        "    a=777 # Local Variable\n",
        "    print(a)\n",
        "    print(globals()['a'])\n",
        "f1()"
      ],
      "metadata": {
        "colab": {
          "base_uri": "https://localhost:8080/"
        },
        "id": "0tpOyTtveTxt",
        "outputId": "5470f81b-6219-4c2e-dd56-ba50934cff16"
      },
      "execution_count": null,
      "outputs": [
        {
          "output_type": "stream",
          "name": "stdout",
          "text": [
            "777\n",
            "10\n"
          ]
        }
      ]
    },
    {
      "cell_type": "markdown",
      "source": [
        "#  Recursive Function:\n",
        "\n",
        "A function that calls itself is known as Recursive Function.\n",
        "\n",
        "Main advantages of recursive functions are:\n",
        "1. \n",
        "We can reduce length of the code and improves readability.\n",
        "2. We can solve complex problems very easily.\n",
        "\n",
        "E.g.\n",
        "\n",
        " factorial(3) = 3 * factorial(2)\n",
        "\n",
        " = 3 * 2 * factorial(1)\n",
        "\n",
        " =3*2*1*factorial(0)\n",
        "\n",
        " =3*2*1*1\n",
        "\n",
        " =6\n",
        "\n",
        " factorial(n) = n * factorial(n-1)"
      ],
      "metadata": {
        "id": "Irs9Pti8ff6h"
      }
    },
    {
      "cell_type": "code",
      "source": [
        "'''Write a Python Function to find Factorial of given\n",
        "  Number with Recursion'''\n",
        "\n",
        "def factorial(n):\n",
        "    if n==0:\n",
        "      result=1\n",
        "    else:\n",
        "      result=n*factorial(n-1)\n",
        "    return result\n",
        "print(\"Factorial of 4 is:\",factorial(4))\n",
        "print(\"Factorial of 5 is:\",factorial(5))"
      ],
      "metadata": {
        "colab": {
          "base_uri": "https://localhost:8080/"
        },
        "id": "z_-dEqhVfxFo",
        "outputId": "9711615e-3681-447e-da3c-96e1b4e5f878"
      },
      "execution_count": null,
      "outputs": [
        {
          "output_type": "stream",
          "name": "stdout",
          "text": [
            "Factorial of 4 is: 24\n",
            "Factorial of 5 is: 120\n"
          ]
        }
      ]
    },
    {
      "cell_type": "markdown",
      "source": [
        "# Anonymous Functions:(Lambda Function)\n",
        "\n",
        "Sometimes we can declare a function without any name,such type of nameless functions are called anonymous functions or lambda functions.\n",
        "\n",
        "The main purpose of anonymous function is just for instant use(i.e for one time usage)\n",
        "\n",
        "We can define by using lambda keyword\n",
        "\n",
        "lambda n:n*n\n",
        "\n",
        "SyntaxoflambdaFunction:lambda argument_list:expression\n",
        "\n",
        " Note: By using Lambda Functions we can write very concise code so that readability of the program will be improved."
      ],
      "metadata": {
        "id": "HQzqIGhChVYR"
      }
    },
    {
      "cell_type": "code",
      "source": [
        " '''Q) Write a Program to create a Lambda Function to find Square of\n",
        "  given Number?'''\n",
        "\n",
        "s= lambda n: n*n\n",
        "print(\"The Square of 4 is:\",s(4))\n",
        "print(\"The Square of 5 is:\",s(5))"
      ],
      "metadata": {
        "colab": {
          "base_uri": "https://localhost:8080/"
        },
        "id": "2dZqa81XhI8g",
        "outputId": "aae24058-62f4-4044-b647-e70a89d6842e"
      },
      "execution_count": null,
      "outputs": [
        {
          "output_type": "stream",
          "name": "stdout",
          "text": [
            "The Square of 4 is: 16\n",
            "The Square of 5 is: 25\n"
          ]
        }
      ]
    },
    {
      "cell_type": "code",
      "source": [
        "'''Q) Lambda Function to find Sum of 2 given Numbers'''\n",
        "s=lambda a,b:a+b\n",
        "print(\"The Sum  of 10,20 is:\",s(10,20))\n",
        "print(\"The Sum of 100,200 is:\",s(100,200))"
      ],
      "metadata": {
        "colab": {
          "base_uri": "https://localhost:8080/"
        },
        "id": "rHeEtxwnh9qV",
        "outputId": "dfeaa2fa-4c93-4027-aa78-2e35a33366fc"
      },
      "execution_count": null,
      "outputs": [
        {
          "output_type": "stream",
          "name": "stdout",
          "text": [
            "The Sum  of 10,20 is: 30\n",
            "The Sum of 100,200 is: 300\n"
          ]
        }
      ]
    },
    {
      "cell_type": "code",
      "source": [
        "'''Q) Lambda Function to find biggest of given Values'''\n",
        "s=lambda a,b: a if a>b else b\n",
        "print(\"The Biggest of 10,20 is:\",s(10,20))\n",
        "print(\"The Biggest of 100,200is:\",s(100,200))"
      ],
      "metadata": {
        "colab": {
          "base_uri": "https://localhost:8080/"
        },
        "id": "JXsughZLiLdv",
        "outputId": "bea0ab79-6510-4232-9753-d5716dcb249b"
      },
      "execution_count": null,
      "outputs": [
        {
          "output_type": "stream",
          "name": "stdout",
          "text": [
            "The Biggest of 10,20 is: 20\n",
            "The Biggest of 100,200is: 200\n"
          ]
        }
      ]
    },
    {
      "cell_type": "markdown",
      "source": [
        "Note: Lambda Function internally returns expression value and we are not required to\n",
        "  write return statement explicitly.\n",
        "\n",
        "  We can use lambda functions very commonly with filter(), map() and reduce() functions,\n",
        " because these functions expect function as argument."
      ],
      "metadata": {
        "id": "3WrEPJ2bi6e_"
      }
    },
    {
      "cell_type": "markdown",
      "source": [
        "# filter() Function:\n",
        "\n",
        " We can use filter() function to filter values from the given sequence based on some\n",
        " condition.\n",
        "\n",
        " **syntax: filter(function,sequence)**\n",
        "\n",
        "  Where Function Argument is responsible to perform conditional check Sequence can be\n",
        " List OR Tuple OR String."
      ],
      "metadata": {
        "id": "BYS_OIjGjHFz"
      }
    },
    {
      "cell_type": "code",
      "source": [
        " \"\"\"Q) Program to filter only Even Numbers from the List by using\n",
        "  filter() Function?\"\"\"\n",
        "# Without Lambda Function:\n",
        "def isEven(x):\n",
        "    if x%2==0:\n",
        "       return True\n",
        "    else:\n",
        "       return False\n",
        "l=[0,5,10,15,20,25,30]\n",
        "l1=list(filter(isEven,l))\n",
        "print(l1) #[0,10,20,30]"
      ],
      "metadata": {
        "colab": {
          "base_uri": "https://localhost:8080/"
        },
        "id": "zXfG9nAlicFX",
        "outputId": "1a0fa834-7b58-4644-b0a0-6b34a9fbdbd2"
      },
      "execution_count": null,
      "outputs": [
        {
          "output_type": "stream",
          "name": "stdout",
          "text": [
            "[0, 10, 20, 30]\n"
          ]
        }
      ]
    },
    {
      "cell_type": "code",
      "source": [
        "# With Lambda Function: Getting odd and even numbers\n",
        "\n",
        "l=[0,5,10,15,20,25,30]\n",
        "l1=list(filter(lambda x:x%2==0,l))\n",
        "print(l1) #[0,10,20,30]\n",
        "l2=list(filter(lambda x:x%2!=0,l))\n",
        "print(l2)#[5,15,25]"
      ],
      "metadata": {
        "colab": {
          "base_uri": "https://localhost:8080/"
        },
        "id": "9TAFXGcGjqho",
        "outputId": "c8542a50-1901-4bdd-8be4-f4c60ee8c369"
      },
      "execution_count": null,
      "outputs": [
        {
          "output_type": "stream",
          "name": "stdout",
          "text": [
            "[0, 10, 20, 30]\n",
            "[5, 15, 25]\n"
          ]
        }
      ]
    },
    {
      "cell_type": "markdown",
      "source": [
        "#  map() Function:\n",
        "\n",
        " For every element present in the given sequence,apply some functionality and\n",
        " generate new element with the required modification. For this requirement we\n",
        " should go for map() function.\n",
        "\n",
        "  Eg: For every element present in the list perform double and generate new list of\n",
        " doubles.\n",
        "\n",
        " **Syntax: map(function, sequence)**\n",
        "\n",
        " The function can be applied on each element of sequence and generates new sequence."
      ],
      "metadata": {
        "id": "aVeLAVn3kK7B"
      }
    },
    {
      "cell_type": "code",
      "source": [
        "# Without Lambda\n",
        "l=[1,2,3,4,5]\n",
        "def doubleIt(x):\n",
        "    return 2*x\n",
        "l1=list(map(doubleIt,l))\n",
        "print(l1)#[2,4,6,8,10]"
      ],
      "metadata": {
        "colab": {
          "base_uri": "https://localhost:8080/"
        },
        "id": "AcVqWn5akCVI",
        "outputId": "2f9e1c76-331e-4928-ddd2-df893babbc45"
      },
      "execution_count": null,
      "outputs": [
        {
          "output_type": "stream",
          "name": "stdout",
          "text": [
            "[2, 4, 6, 8, 10]\n"
          ]
        }
      ]
    },
    {
      "cell_type": "code",
      "source": [
        "# With Lambda\n",
        "l=[1,2,3,4,5]\n",
        "l1=list(map(lambda x:2*x,l))\n",
        "print(l1) #[2, 4, 6, 8, 10]"
      ],
      "metadata": {
        "colab": {
          "base_uri": "https://localhost:8080/"
        },
        "id": "hqSy0ewKkpd6",
        "outputId": "5bce6e19-067b-45fe-9069-604be3cee7fa"
      },
      "execution_count": null,
      "outputs": [
        {
          "output_type": "stream",
          "name": "stdout",
          "text": [
            "[2, 4, 6, 8, 10]\n"
          ]
        }
      ]
    },
    {
      "cell_type": "markdown",
      "source": [
        " ## Homework \n",
        " \n",
        " Q. Find the square of given number in list using map and lambda function.\n",
        "\n",
        "l=[1004, 5, 987,5674]"
      ],
      "metadata": {
        "id": "tfaNeZHQlWqh"
      }
    },
    {
      "cell_type": "markdown",
      "source": [
        "# reduce() Function:\n",
        "\n",
        "reduce() function reduces sequence of elements into a single element by applying the\n",
        "specified function. \n",
        "\n",
        "**syntax: reduce(function,sequence)**\n",
        "\n",
        "reduce() function present in functools module and hence we should write import\n",
        "statement"
      ],
      "metadata": {
        "id": "TnumBfeZm3G_"
      }
    },
    {
      "cell_type": "code",
      "source": [
        "from functools import*\n",
        "l=[10,20,30,40,50]\n",
        "result=reduce(lambda x,y:x+y,l)\n",
        "print(result)#150"
      ],
      "metadata": {
        "colab": {
          "base_uri": "https://localhost:8080/"
        },
        "id": "4Kce7sSrnGaY",
        "outputId": "40b10487-76f0-42a2-f10a-7868421ebad2"
      },
      "execution_count": null,
      "outputs": [
        {
          "output_type": "stream",
          "name": "stdout",
          "text": [
            "150\n"
          ]
        }
      ]
    },
    {
      "cell_type": "code",
      "source": [
        "result=reduce(lambda x,y:x*y,l)\n",
        "print(result) #12000000"
      ],
      "metadata": {
        "colab": {
          "base_uri": "https://localhost:8080/"
        },
        "id": "-4DzF25qnOVu",
        "outputId": "3b99aa43-eced-4754-9a41-abac67ddaed4"
      },
      "execution_count": null,
      "outputs": [
        {
          "output_type": "stream",
          "name": "stdout",
          "text": [
            "12000000\n"
          ]
        }
      ]
    },
    {
      "cell_type": "markdown",
      "source": [
        "# Function Aliasing:\n",
        "For the existing function we can give another name, which is nothing but function aliasing."
      ],
      "metadata": {
        "id": "iNflK-LTnnO_"
      }
    },
    {
      "cell_type": "code",
      "source": [
        "def wish(name):\n",
        "    print(\"Good Morning:\",name)\n",
        "greeting=wish\n",
        "print(id(wish))\n",
        "print(id(greeting))\n",
        "\n",
        "greeting('Akash')\n",
        "wish('Akash')\n",
        "\n",
        "'''In the above example only one function is available \n",
        "but we can call that function by using either wish name or greeting name.'''"
      ],
      "metadata": {
        "colab": {
          "base_uri": "https://localhost:8080/"
        },
        "id": "xxdAVe11nYiU",
        "outputId": "6d118953-e140-4338-de43-ec7598dd8879"
      },
      "execution_count": null,
      "outputs": [
        {
          "output_type": "stream",
          "name": "stdout",
          "text": [
            "139669130925408\n",
            "139669130925408\n",
            "Good Morning: Akash\n",
            "Good Morning: Akash\n"
          ]
        }
      ]
    },
    {
      "cell_type": "code",
      "source": [],
      "metadata": {
        "id": "RTLlQhNKnzTe"
      },
      "execution_count": null,
      "outputs": []
    }
  ]
}