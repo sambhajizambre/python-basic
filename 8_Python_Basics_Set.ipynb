{
  "nbformat": 4,
  "nbformat_minor": 0,
  "metadata": {
    "colab": {
      "name": "8_Python_Basics_Set.ipynb",
      "provenance": [],
      "include_colab_link": true
    },
    "kernelspec": {
      "name": "python3",
      "display_name": "Python 3"
    },
    "language_info": {
      "name": "python"
    }
  },
  "cells": [
    {
      "cell_type": "markdown",
      "metadata": {
        "id": "view-in-github",
        "colab_type": "text"
      },
      "source": [
        "<a href=\"https://colab.research.google.com/github/sambhajizambre/python-basic/blob/main/8_Python_Basics_Set.ipynb\" target=\"_parent\"><img src=\"https://colab.research.google.com/assets/colab-badge.svg\" alt=\"Open In Colab\"/></a>"
      ]
    },
    {
      "cell_type": "markdown",
      "source": [
        "# SET - Data Structure\n",
        "\n",
        "1. If we want to represent a group of unique values as a single entity then we should go\n",
        "for set.\n",
        "2. Duplicates are not allowed.\n",
        "3. Insertion order is not preserved.But we can sort the elements.\n",
        "4. Indexing and slicing not allowed for the set.\n",
        "5. Heterogeneous elements are allowed.\n",
        "6. Set objects are mutable i.e once we creates set object we can perform any changes in\n",
        "that object based on our requirement.\n",
        "7. We can represent set elements within curly braces and with comma seperation\n",
        "8. We can apply mathematical operations like union, intersection, difference etc on set\n",
        "objects.\n"
      ],
      "metadata": {
        "id": "lJ0CqdVEP7zQ"
      }
    },
    {
      "cell_type": "code",
      "source": [
        "s={10,20,30,40}\n",
        "print(s)\n",
        "print(type(s))"
      ],
      "metadata": {
        "colab": {
          "base_uri": "https://localhost:8080/"
        },
        "id": "CtK0eP6QP9qE",
        "outputId": "9ddb293e-430c-41fc-bfe2-f24e9220d4c8"
      },
      "execution_count": null,
      "outputs": [
        {
          "output_type": "stream",
          "name": "stdout",
          "text": [
            "{40, 10, 20, 30}\n",
            "<class 'set'>\n"
          ]
        }
      ]
    },
    {
      "cell_type": "code",
      "source": [
        "#We can create set objects by using set() Function s = set(any sequence)\n",
        "l=[10,20,30,40,10,20,10]\n",
        "s=set(l)\n",
        "print(s)#{40,10,20,30}"
      ],
      "metadata": {
        "colab": {
          "base_uri": "https://localhost:8080/"
        },
        "id": "qnIre5s1Qc6z",
        "outputId": "7ba099c2-d611-4ce9-93c3-35af1566f974"
      },
      "execution_count": null,
      "outputs": [
        {
          "output_type": "stream",
          "name": "stdout",
          "text": [
            "{40, 10, 20, 30}\n"
          ]
        }
      ]
    },
    {
      "cell_type": "code",
      "source": [
        "s=set(range(5))\n",
        "print(s)#{0,1,2,3,4}"
      ],
      "metadata": {
        "colab": {
          "base_uri": "https://localhost:8080/"
        },
        "id": "cj_oAvJFQm2M",
        "outputId": "89ed9de7-b002-4963-c5a0-2dac31bc20ae"
      },
      "execution_count": null,
      "outputs": [
        {
          "output_type": "stream",
          "name": "stdout",
          "text": [
            "{0, 1, 2, 3, 4}\n"
          ]
        }
      ]
    },
    {
      "cell_type": "markdown",
      "source": [
        "# Important Functions of Set:"
      ],
      "metadata": {
        "id": "oOd2dRlQQ0pz"
      }
    },
    {
      "cell_type": "code",
      "source": [
        "# 1) add(x): add item x to the set\n",
        "s={10,20,30}\n",
        "s.add(40);\n",
        "print(s)#{40,10,20,30}"
      ],
      "metadata": {
        "colab": {
          "base_uri": "https://localhost:8080/"
        },
        "id": "j_psE_25Qu--",
        "outputId": "4179ae12-7994-4b92-981a-b560590c3015"
      },
      "execution_count": null,
      "outputs": [
        {
          "output_type": "stream",
          "name": "stdout",
          "text": [
            "{40, 10, 20, 30}\n"
          ]
        }
      ]
    },
    {
      "cell_type": "code",
      "source": [
        "# 2)  update(x,y,z): add multiple items to the set\n",
        "s={10,20,30}\n",
        "l=[40,50,60,10]\n",
        "s.update(l,range(5))\n",
        "print(s)"
      ],
      "metadata": {
        "colab": {
          "base_uri": "https://localhost:8080/"
        },
        "id": "u43E6sWfQ-od",
        "outputId": "008a0e10-e268-4f75-f993-a06520baf8c6"
      },
      "execution_count": null,
      "outputs": [
        {
          "output_type": "stream",
          "name": "stdout",
          "text": [
            "{0, 1, 2, 3, 4, 40, 10, 50, 20, 60, 30}\n"
          ]
        }
      ]
    },
    {
      "cell_type": "markdown",
      "source": [
        "Q) What is the difference between add() and update()\n",
        "Functions in Set?\n",
        "\n",
        "We can use add() to add individual item to the Set,where as we can use update()\n",
        "function to add multiple items to Set.\n",
        "\n",
        "add() function can take only one argument where as update() function can take any number of arguments."
      ],
      "metadata": {
        "id": "XA4NQCS1RVVq"
      }
    },
    {
      "cell_type": "code",
      "source": [
        "#3. copy(): returns copy of the set(cloning)\n",
        "s={10,20,30}\n",
        "s1=s.copy()\n",
        "print(s1)"
      ],
      "metadata": {
        "colab": {
          "base_uri": "https://localhost:8080/"
        },
        "id": "hVPCyHbXRUsw",
        "outputId": "b2e537bc-ad0e-496a-abcd-467a0b117d1a"
      },
      "execution_count": null,
      "outputs": [
        {
          "output_type": "stream",
          "name": "stdout",
          "text": [
            "{10, 20, 30}\n"
          ]
        }
      ]
    },
    {
      "cell_type": "code",
      "source": [
        "#4. pop(): It removes and returns some random element from the set\n",
        "s={40,10,30,20}\n",
        "print(s)\n",
        "print(s.pop())\n",
        "print(s)"
      ],
      "metadata": {
        "colab": {
          "base_uri": "https://localhost:8080/"
        },
        "id": "9weJXW8bRM81",
        "outputId": "7a12fefd-f006-4c36-fe12-d2a191da4dd9"
      },
      "execution_count": null,
      "outputs": [
        {
          "output_type": "stream",
          "name": "stdout",
          "text": [
            "{40, 10, 20, 30}\n",
            "40\n",
            "{10, 20, 30}\n"
          ]
        }
      ]
    },
    {
      "cell_type": "code",
      "source": [
        "#5. remove(x):removes specified item from the set\n",
        "s={40,10,30,20}\n",
        "s.remove(30)\n",
        "print(s)"
      ],
      "metadata": {
        "colab": {
          "base_uri": "https://localhost:8080/"
        },
        "id": "amS7bzEdR7l7",
        "outputId": "95eb39d3-b9aa-4158-8c84-c7b928550ac0"
      },
      "execution_count": null,
      "outputs": [
        {
          "output_type": "stream",
          "name": "stdout",
          "text": [
            "{40, 10, 20}\n"
          ]
        }
      ]
    },
    {
      "cell_type": "code",
      "source": [
        "#6.  discard(): It removes specified element from the space\n",
        "# If specified error not present in the set then it will not throw error\n",
        "s={40,10,30,20}\n",
        "s.discard(30)\n",
        "print(s)"
      ],
      "metadata": {
        "colab": {
          "base_uri": "https://localhost:8080/"
        },
        "id": "r3PJIF5zSrDz",
        "outputId": "7b25215e-3513-46bb-9100-f9725d915bba"
      },
      "execution_count": null,
      "outputs": [
        {
          "output_type": "stream",
          "name": "stdout",
          "text": [
            "{40, 10, 20}\n"
          ]
        }
      ]
    },
    {
      "cell_type": "code",
      "source": [
        "#7. clear(): to remove all the elements from the set\n",
        "s={10,20,30}\n",
        "print(s)\n",
        "s.clear()\n",
        "print(s)"
      ],
      "metadata": {
        "colab": {
          "base_uri": "https://localhost:8080/"
        },
        "id": "RXZ7zoHyS_vL",
        "outputId": "9912a460-c716-44d5-9f24-d34ca82fde91"
      },
      "execution_count": null,
      "outputs": [
        {
          "output_type": "stream",
          "name": "stdout",
          "text": [
            "{10, 20, 30}\n",
            "set()\n"
          ]
        }
      ]
    },
    {
      "cell_type": "markdown",
      "source": [
        "# **IMPORTANT CONCEPTS**\n",
        "\n",
        "# Mathematical Operations on the Set:"
      ],
      "metadata": {
        "id": "-ooyhWY0TUDW"
      }
    },
    {
      "cell_type": "code",
      "source": [
        "#1. union(): \n",
        "# Syntax: x.union(y) OR x|y: Return all the elements present in both sets\n",
        "x={10,20,30,40}\n",
        "y={30,40,50,60}\n",
        "print(x.union(y))#{10,20,30,40,50,60}\n",
        "print (x|y)#{10, 20, 30, 40, 50, 60}\n"
      ],
      "metadata": {
        "colab": {
          "base_uri": "https://localhost:8080/"
        },
        "id": "U0uRtXGFTRoN",
        "outputId": "b547c973-1670-4c28-9def-4d27eab9bc8c"
      },
      "execution_count": null,
      "outputs": [
        {
          "output_type": "stream",
          "name": "stdout",
          "text": [
            "{40, 10, 50, 20, 60, 30}\n",
            "{40, 10, 50, 20, 60, 30}\n"
          ]
        }
      ]
    },
    {
      "cell_type": "code",
      "source": [
        "# 2. intersection():\n",
        "#Syntax: x.intersection(y) or x&y\n",
        "#Returns common elements present in both x and y\n",
        "x={10,20,30,40}\n",
        "y={30,40,50,60}\n",
        "print(x.intersection(y))#{40,30}\n",
        "print(x&y)#{40, 30}"
      ],
      "metadata": {
        "colab": {
          "base_uri": "https://localhost:8080/"
        },
        "id": "vbP2j8S7UXIL",
        "outputId": "c2ed9bdb-5f7a-45c7-c59f-876133468696"
      },
      "execution_count": null,
      "outputs": [
        {
          "output_type": "stream",
          "name": "stdout",
          "text": [
            "{40, 30}\n",
            "{40, 30}\n"
          ]
        }
      ]
    },
    {
      "cell_type": "code",
      "source": [
        "# 3. difference():\n",
        "# Syntax: x.difference(y) OR x-y.\n",
        "#Returns the elements present in x but not in y.\n",
        "x={10,20,30,40}\n",
        "y={30,40,50,60}\n",
        "print(x.difference(y))#10, 20\n",
        "print(x-y)#{10, 20}\n",
        "print(y-x)#{50, 60}"
      ],
      "metadata": {
        "colab": {
          "base_uri": "https://localhost:8080/"
        },
        "id": "dgA23yClUvvr",
        "outputId": "ce2c8fb4-e654-48c4-f3bc-bcee8671a1ea"
      },
      "execution_count": null,
      "outputs": [
        {
          "output_type": "stream",
          "name": "stdout",
          "text": [
            "{10, 20}\n",
            "{10, 20}\n",
            "{50, 60}\n"
          ]
        }
      ]
    },
    {
      "cell_type": "code",
      "source": [
        "#4. symmetric_difference():\n",
        "# x.symmetric_difference(y) OR x^y\n",
        "#Returns elements present in either x OR y but not in both.\n",
        "x={10,20,30,40}\n",
        "y={30,40,50,60}\n",
        "print(x.symmetric_difference(y))#{10,50,20,60}\n",
        "print(x^y)#{10, 50, 20, 60}"
      ],
      "metadata": {
        "colab": {
          "base_uri": "https://localhost:8080/"
        },
        "id": "jOiP2sePVExp",
        "outputId": "ae90cb44-def8-4cf4-f479-9397e004e08e"
      },
      "execution_count": null,
      "outputs": [
        {
          "output_type": "stream",
          "name": "stdout",
          "text": [
            "{10, 50, 20, 60}\n",
            "{10, 50, 20, 60}\n"
          ]
        }
      ]
    },
    {
      "cell_type": "markdown",
      "source": [
        "# Membership Operators: (in, not in)"
      ],
      "metadata": {
        "id": "_WVAx3mtVs6s"
      }
    },
    {
      "cell_type": "code",
      "source": [
        "s=set(\"python\")\n",
        "print(s)\n",
        "print('d'in s)\n",
        "print('p'in s)"
      ],
      "metadata": {
        "colab": {
          "base_uri": "https://localhost:8080/"
        },
        "id": "cG__6VLLVoHn",
        "outputId": "a64b19b1-e218-4038-880b-5bd830b7e37e"
      },
      "execution_count": null,
      "outputs": [
        {
          "output_type": "stream",
          "name": "stdout",
          "text": [
            "{'t', 'h', 'o', 'p', 'y', 'n'}\n",
            "False\n",
            "True\n"
          ]
        }
      ]
    },
    {
      "cell_type": "markdown",
      "source": [
        "# Set Comprehension:"
      ],
      "metadata": {
        "id": "sr9wbPBKV4t7"
      }
    },
    {
      "cell_type": "code",
      "source": [
        "#Set comprehension is possible.\n",
        "s = {x*x for x in range(5)}\n",
        "print(s)#{0,1,4,9,16}"
      ],
      "metadata": {
        "colab": {
          "base_uri": "https://localhost:8080/"
        },
        "id": "Fkfhjiv8V1rF",
        "outputId": "1f6e4422-2de3-4877-84b1-bcf9b9117534"
      },
      "execution_count": null,
      "outputs": [
        {
          "output_type": "stream",
          "name": "stdout",
          "text": [
            "{0, 1, 4, 9, 16}\n"
          ]
        }
      ]
    },
    {
      "cell_type": "markdown",
      "source": [
        "# Set Objects won't support indexing and slicing:\n"
      ],
      "metadata": {
        "id": "LYWoni5EWKx2"
      }
    },
    {
      "cell_type": "code",
      "source": [
        "s={10,20,30,40}\n",
        "print(s[0])# TypeError:'set'objectdoesnotsupportindexing\n",
        "print(s[1:3])# TypeError: 'set' object is not subscriptable"
      ],
      "metadata": {
        "colab": {
          "base_uri": "https://localhost:8080/",
          "height": 203
        },
        "id": "A6x6jLSgV_64",
        "outputId": "9338abbc-2210-4627-dcc8-04d1c2861d3a"
      },
      "execution_count": null,
      "outputs": [
        {
          "output_type": "error",
          "ename": "TypeError",
          "evalue": "ignored",
          "traceback": [
            "\u001b[0;31m---------------------------------------------------------------------------\u001b[0m",
            "\u001b[0;31mTypeError\u001b[0m                                 Traceback (most recent call last)",
            "\u001b[0;32m<ipython-input-17-8176d88c9bbe>\u001b[0m in \u001b[0;36m<module>\u001b[0;34m()\u001b[0m\n\u001b[1;32m      1\u001b[0m \u001b[0ms\u001b[0m\u001b[0;34m=\u001b[0m\u001b[0;34m{\u001b[0m\u001b[0;36m10\u001b[0m\u001b[0;34m,\u001b[0m\u001b[0;36m20\u001b[0m\u001b[0;34m,\u001b[0m\u001b[0;36m30\u001b[0m\u001b[0;34m,\u001b[0m\u001b[0;36m40\u001b[0m\u001b[0;34m}\u001b[0m\u001b[0;34m\u001b[0m\u001b[0;34m\u001b[0m\u001b[0m\n\u001b[0;32m----> 2\u001b[0;31m \u001b[0mprint\u001b[0m\u001b[0;34m(\u001b[0m\u001b[0ms\u001b[0m\u001b[0;34m[\u001b[0m\u001b[0;36m0\u001b[0m\u001b[0;34m]\u001b[0m\u001b[0;34m)\u001b[0m\u001b[0;31m# TypeError:'set'objectdoesnotsupportindexing\u001b[0m\u001b[0;34m\u001b[0m\u001b[0;34m\u001b[0m\u001b[0m\n\u001b[0m\u001b[1;32m      3\u001b[0m \u001b[0mprint\u001b[0m\u001b[0;34m(\u001b[0m\u001b[0ms\u001b[0m\u001b[0;34m[\u001b[0m\u001b[0;36m1\u001b[0m\u001b[0;34m:\u001b[0m\u001b[0;36m3\u001b[0m\u001b[0;34m]\u001b[0m\u001b[0;34m)\u001b[0m\u001b[0;31m# TypeError: 'set' object is not subscriptable\u001b[0m\u001b[0;34m\u001b[0m\u001b[0;34m\u001b[0m\u001b[0m\n",
            "\u001b[0;31mTypeError\u001b[0m: 'set' object is not subscriptable"
          ]
        }
      ]
    },
    {
      "cell_type": "markdown",
      "source": [
        "# Homework\n",
        " Q) Write a Program to eliminate Duplicates Present in the\n",
        "  List?\n",
        "\n",
        "Q) Write a Program to Print different Vowels Present in the\n",
        "  given Word?(Using intersection method"
      ],
      "metadata": {
        "id": "59SlMSdwWZS7"
      }
    },
    {
      "cell_type": "code",
      "source": [
        ""
      ],
      "metadata": {
        "id": "0Srf6QQHWRSe"
      },
      "execution_count": null,
      "outputs": []
    }
  ]
}